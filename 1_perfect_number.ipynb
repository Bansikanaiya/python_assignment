{
 "cells": [
  {
   "cell_type": "code",
   "execution_count": 10,
   "id": "eca52f44-c214-480b-97d6-a080418623c4",
   "metadata": {},
   "outputs": [
    {
     "name": "stdin",
     "output_type": "stream",
     "text": [
      "Enter the number:  6\n"
     ]
    },
    {
     "name": "stdout",
     "output_type": "stream",
     "text": [
      "1\n",
      "2\n",
      "3\n",
      "This is perfect number\n"
     ]
    }
   ],
   "source": [
    "num=int(input(\"Enter the number: \"))  \n",
    "sum=0  \n",
    "for i in range(1,num):  \n",
    "    if (num%i==0):  \n",
    "        sum+=i \n",
    "        print(i)\n",
    "if(sum==num):  \n",
    "    print(\"This is perfect number\")  \n",
    "else:  \n",
    "    print(\"This is not a perfect number\")  "
   ]
  },
  {
   "cell_type": "code",
   "execution_count": null,
   "id": "79b84296-1194-47cb-9df7-0d1c8a1069d8",
   "metadata": {},
   "outputs": [],
   "source": []
  },
  {
   "cell_type": "code",
   "execution_count": null,
   "id": "9beb26a4-8cbe-462f-a9f4-0fba9ab1ce86",
   "metadata": {},
   "outputs": [],
   "source": []
  }
 ],
 "metadata": {
  "kernelspec": {
   "display_name": "Python 3 (ipykernel)",
   "language": "python",
   "name": "python3"
  },
  "language_info": {
   "codemirror_mode": {
    "name": "ipython",
    "version": 3
   },
   "file_extension": ".py",
   "mimetype": "text/x-python",
   "name": "python",
   "nbconvert_exporter": "python",
   "pygments_lexer": "ipython3",
   "version": "3.12.4"
  }
 },
 "nbformat": 4,
 "nbformat_minor": 5
}
