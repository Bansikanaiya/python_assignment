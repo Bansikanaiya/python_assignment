{
 "cells": [
  {
   "cell_type": "code",
   "execution_count": 6,
   "id": "4840a341-3441-44e6-ac19-d47421c1789f",
   "metadata": {},
   "outputs": [
    {
     "ename": "SyntaxError",
     "evalue": "invalid syntax. Perhaps you forgot a comma? (164606399.py, line 9)",
     "output_type": "error",
     "traceback": [
      "\u001b[1;36m  Cell \u001b[1;32mIn[6], line 9\u001b[1;36m\u001b[0m\n\u001b[1;33m    return count_recursive(coin[:-1],price)+count_recursive(coin,price-coin{-1})\u001b[0m\n\u001b[1;37m                                                                 ^\u001b[0m\n\u001b[1;31mSyntaxError\u001b[0m\u001b[1;31m:\u001b[0m invalid syntax. Perhaps you forgot a comma?\n"
     ]
    }
   ],
   "source": [
    "#exact change of given price\n",
    "def count_recursive(coins,price):\n",
    " if price==0:\n",
    "     return 1\n",
    " if price <0:\n",
    "    return 0\n",
    " if len(coin)==0 and price>0:\n",
    "    return count_recursive(coin[:-1],price) + count_recursive(coin,price-coin{-1})\n",
    "    coin=[2,1,5]\n",
    "    price=int(input(\"enter your price:\"))\n",
    "print(\"no. of combination:\",count_recursive(coins,price))\n",
    "\n",
    "    \n"
   ]
  },
  {
   "cell_type": "code",
   "execution_count": null,
   "id": "b4860620-55dc-4a28-8b5e-904d06f70353",
   "metadata": {},
   "outputs": [],
   "source": []
  }
 ],
 "metadata": {
  "kernelspec": {
   "display_name": "Python 3 (ipykernel)",
   "language": "python",
   "name": "python3"
  },
  "language_info": {
   "codemirror_mode": {
    "name": "ipython",
    "version": 3
   },
   "file_extension": ".py",
   "mimetype": "text/x-python",
   "name": "python",
   "nbconvert_exporter": "python",
   "pygments_lexer": "ipython3",
   "version": "3.12.4"
  }
 },
 "nbformat": 4,
 "nbformat_minor": 5
}
